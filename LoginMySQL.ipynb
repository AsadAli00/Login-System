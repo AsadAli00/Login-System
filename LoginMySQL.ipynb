{
 "cells": [
  {
   "cell_type": "code",
   "execution_count": 3,
   "metadata": {},
   "outputs": [],
   "source": [
    "import mysql.connector\n",
    "\n",
    "mydata = mysql.connector.connect(host = \"localhost\",\n",
    "                                user = \"root\",\n",
    "                                password = \"\")\n",
    "\n",
    "cursor = mydata.cursor()\n",
    "cursor.execute(\"CREATE DATABASE mydatabase\")"
   ]
  },
  {
   "cell_type": "code",
   "execution_count": 5,
   "metadata": {},
   "outputs": [],
   "source": [
    "import mysql.connector\n",
    "\n",
    "mydata = mysql.connector.connect(host = \"localhost\",\n",
    "                                user = \"root\",\n",
    "                                password = \"\",\n",
    "                                database = \"mydatabase\")\n",
    "\n",
    "cursor = mydata.cursor()\n",
    "cursor.execute(\"CREATE TABLE Useraccount(ID INT AUTO_INCREMENT PRIMARY KEY, Username VARCHAR(250), Password VARCHAR(250))\")"
   ]
  },
  {
   "cell_type": "code",
   "execution_count": 6,
   "metadata": {},
   "outputs": [
    {
     "name": "stdout",
     "output_type": "stream",
     "text": [
      "('useraccount',)\n"
     ]
    }
   ],
   "source": [
    "import mysql.connector\n",
    "\n",
    "mydata = mysql.connector.connect(host = \"localhost\",\n",
    "                                user = \"root\",\n",
    "                                password = \"\",\n",
    "                                database = \"mydatabase\")\n",
    "\n",
    "cursor = mydata.cursor()\n",
    "cursor.execute(\"SHOW TABLES\")\n",
    "\n",
    "for x in cursor:\n",
    "    print(x)"
   ]
  },
  {
   "cell_type": "markdown",
   "metadata": {},
   "source": [
    "# Logged in Successful"
   ]
  },
  {
   "cell_type": "code",
   "execution_count": 17,
   "metadata": {
    "scrolled": true
   },
   "outputs": [
    {
     "name": "stdout",
     "output_type": "stream",
     "text": [
      "Username : Moin\n",
      "Password : Moin123asd\n",
      "      ****WELCOME****\n",
      "You are successfuly Logged in:\n"
     ]
    }
   ],
   "source": [
    "import mysql.connector\n",
    "\n",
    "mydata = mysql.connector.connect(host = \"localhost\",\n",
    "                                user = \"root\",\n",
    "                                password = \"\",\n",
    "                                database = \"mydatabase\")\n",
    "\n",
    "cursor = mydata.cursor()\n",
    "query =  \"INSERT INTO Useraccount (Username, Password) VALUES (%s, %s)\"\n",
    "val = [('Usama', 'Usama*123'),\n",
    "      ('Moin','Moin123asd'),\n",
    "      ('Maaz','usamaaz8')]\n",
    "cursor.executemany(query, val)\n",
    "\n",
    "cursor.execute(\"SELECT * FROM Useraccount\")\n",
    "result = cursor.fetchall()\n",
    "Usern = input(\"Username : \")\n",
    "Passwo = input(\"Password : \")\n",
    "for x in result:\n",
    "    user = str(x[1])\n",
    "    passw = str(x[2]) \n",
    "    if (Usern == user  and Passwo == passw ):\n",
    "        a = True\n",
    "\n",
    "if a == True:\n",
    "    print(\"      ****WELCOME****\")\n",
    "    print(\"You are successfuly Logged in:\") \n",
    "else:\n",
    "     print(\"Invalid User: \")\n",
    "\n",
    "      \n",
    "            \n",
    "    \n",
    "    "
   ]
  },
  {
   "cell_type": "markdown",
   "metadata": {},
   "source": [
    "# Logged in Fail"
   ]
  },
  {
   "cell_type": "code",
   "execution_count": 21,
   "metadata": {},
   "outputs": [
    {
     "name": "stdout",
     "output_type": "stream",
     "text": [
      "Username : usama\n",
      "Password : usama123\n",
      "Invalid User: \n"
     ]
    }
   ],
   "source": [
    "import mysql.connector\n",
    "\n",
    "mydata = mysql.connector.connect(host = \"localhost\",\n",
    "                                user = \"root\",\n",
    "                                password = \"\",\n",
    "                                database = \"mydatabase\")\n",
    "\n",
    "cursor = mydata.cursor()\n",
    "query =  \"INSERT INTO Useraccount (Username, Password) VALUES (%s, %s)\"\n",
    "val = [('Usama', 'Usama*123'),\n",
    "      ('Moin','Moin123asd'),\n",
    "      ('Maaz','usamaaz8')]\n",
    "cursor.executemany(query, val)\n",
    "\n",
    "cursor.execute(\"SELECT * FROM Useraccount\")\n",
    "result = cursor.fetchall()\n",
    "a = 0\n",
    "Usern = input(\"Username : \")\n",
    "Passwo = input(\"Password : \")\n",
    "for x in result:\n",
    "    user = str(x[1])\n",
    "    passw = str(x[2]) \n",
    "    if (Usern == user  and Passwo == passw ):\n",
    "        a = 1\n",
    "\n",
    "if a == 1:\n",
    "    print(\"      ****WELCOME****\")\n",
    "    print(\"You are successfuly Logged in:\") \n",
    "else:\n",
    "     print(\"Invalid User: \")\n"
   ]
  },
  {
   "cell_type": "code",
   "execution_count": null,
   "metadata": {},
   "outputs": [],
   "source": []
  }
 ],
 "metadata": {
  "kernelspec": {
   "display_name": "Python 3",
   "language": "python",
   "name": "python3"
  },
  "language_info": {
   "codemirror_mode": {
    "name": "ipython",
    "version": 3
   },
   "file_extension": ".py",
   "mimetype": "text/x-python",
   "name": "python",
   "nbconvert_exporter": "python",
   "pygments_lexer": "ipython3",
   "version": "3.7.3"
  }
 },
 "nbformat": 4,
 "nbformat_minor": 2
}
