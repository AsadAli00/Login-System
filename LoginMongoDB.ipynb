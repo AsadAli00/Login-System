{
 "cells": [
  {
   "cell_type": "markdown",
   "metadata": {},
   "source": [
    "# MongoDB Login System"
   ]
  },
  {
   "cell_type": "markdown",
   "metadata": {},
   "source": [
    "# Logged in Fail:"
   ]
  },
  {
   "cell_type": "code",
   "execution_count": 51,
   "metadata": {},
   "outputs": [
    {
     "name": "stdout",
     "output_type": "stream",
     "text": [
      "Username : hjki\n",
      "Password : uytr\n",
      "Invalid User : \n"
     ]
    }
   ],
   "source": [
    "import pymongo\n",
    "\n",
    "myclient = pymongo.MongoClient()\n",
    "mydb = myclient[\"Ndatabase\"]\n",
    "\n",
    "collection = mydb[\"Useraccount\"]\n",
    "\n",
    "mydict = [{\"Username\":\"usama\",\"Password\":\"Usama*123\"},\n",
    "         {\"Username\":\"mirza\",\"Password\":\"123gomirza\"},\n",
    "         {\"Username\":\"Areesha\",\"Password\":\"aressha7890\"}]\n",
    "y = collection.insert_many(mydict)\n",
    "Usern = str(input(\"Username : \"))\n",
    "Passw = str(input(\"Password : \"))\n",
    "myquery = {\"Username\": Usern, \"Password\": Passw}\n",
    "mydoc =  collection.find(myquery)\n",
    "a = 0\n",
    "for x in mydoc:\n",
    "    a += 1\n",
    "    \n",
    "if a > 0:\n",
    "    print(\"You logged in successfully : \")\n",
    "else:\n",
    "    print(\"Invalid User : \")"
   ]
  },
  {
   "cell_type": "markdown",
   "metadata": {},
   "source": [
    "# Logged in Successfully:"
   ]
  },
  {
   "cell_type": "code",
   "execution_count": 52,
   "metadata": {},
   "outputs": [
    {
     "name": "stdout",
     "output_type": "stream",
     "text": [
      "Username : usama\n",
      "Password : Usama*123\n",
      "You logged in successfully : \n"
     ]
    }
   ],
   "source": [
    "import pymongo\n",
    "\n",
    "myclient = pymongo.MongoClient()\n",
    "mydb = myclient[\"Ndatabase\"]\n",
    "\n",
    "collection = mydb[\"Useraccount\"]\n",
    "\n",
    "mydict = [{\"Username\":\"usama\",\"Password\":\"Usama*123\"},\n",
    "         {\"Username\":\"mirza\",\"Password\":\"123gomirza\"},\n",
    "         {\"Username\":\"Areesha\",\"Password\":\"aressha7890\"}]\n",
    "y = collection.insert_many(mydict)\n",
    "Usern = str(input(\"Username : \"))\n",
    "Passw = str(input(\"Password : \"))\n",
    "myquery = {\"Username\": Usern, \"Password\": Passw}\n",
    "mydoc =  collection.find(myquery)\n",
    "a = 0\n",
    "for x in mydoc:\n",
    "    a += 1\n",
    "    \n",
    "if a > 0:\n",
    "    print(\"You logged in successfully : \")\n",
    "else:\n",
    "    print(\"Invalid User : \")"
   ]
  },
  {
   "cell_type": "code",
   "execution_count": null,
   "metadata": {},
   "outputs": [],
   "source": []
  }
 ],
 "metadata": {
  "kernelspec": {
   "display_name": "Python 3",
   "language": "python",
   "name": "python3"
  },
  "language_info": {
   "codemirror_mode": {
    "name": "ipython",
    "version": 3
   },
   "file_extension": ".py",
   "mimetype": "text/x-python",
   "name": "python",
   "nbconvert_exporter": "python",
   "pygments_lexer": "ipython3",
   "version": "3.7.3"
  }
 },
 "nbformat": 4,
 "nbformat_minor": 2
}
